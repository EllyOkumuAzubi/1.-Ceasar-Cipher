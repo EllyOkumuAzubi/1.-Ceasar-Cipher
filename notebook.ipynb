{
 "cells": [
  {
   "cell_type": "code",
   "execution_count": null,
   "metadata": {},
   "outputs": [],
   "source": [
    "# This is a detailed step to step process of the following\n",
    "\n",
    "##........................1) The implementation of the encryption \n",
    "\n",
    "##........................2) Reasons why the system is needed \n",
    "\n",
    "##........................3) Practical systems where it is used \n",
    "\n",
    "##........................ 4) Feedback from people "
   ]
  },
  {
   "cell_type": "code",
   "execution_count": null,
   "metadata": {},
   "outputs": [],
   "source": []
  }
 ],
 "metadata": {
  "language_info": {
   "name": "python"
  }
 },
 "nbformat": 4,
 "nbformat_minor": 2
}
